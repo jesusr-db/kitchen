{
 "cells": [
  {
   "cell_type": "markdown",
   "metadata": {},
   "source": [
    "# Digital Twin App Deployment\n",
    "\n",
    "This notebook deploys the Casper's Kitchens Digital Twin frontend application."
   ]
  },
  {
   "cell_type": "code",
   "execution_count": null,
   "metadata": {},
   "outputs": [],
   "source": [
    "# Get parameters\n",
    "CATALOG = dbutils.widgets.get(\"CATALOG\")"
   ]
  },
  {
   "cell_type": "code",
   "execution_count": null,
   "metadata": {},
   "outputs": [],
   "source": [
    "# Import dependencies\n",
    "from databricks.sdk import WorkspaceClient\n",
    "from uc_state import add\n",
    "import os\n",
    "\n",
    "w = WorkspaceClient()"
   ]
  },
  {
   "cell_type": "code",
   "execution_count": null,
   "metadata": {},
   "outputs": [],
   "source": [
    "# Get workspace path for app directory\n",
    "abs_path = os.path.abspath(\"../apps/digital-twin\")\n",
    "app_path = abs_path.replace(\n",
    "    os.environ.get(\"DATABRICKS_WORKSPACE_ROOT\", \"/Workspace\"), \n",
    "    \"/Workspace\"\n",
    ")\n",
    "\n",
    "print(f\"App path: {app_path}\")"
   ]
  },
  {
   "cell_type": "code",
   "execution_count": null,
   "metadata": {},
   "outputs": [],
   "source": [
    "# Create or update app\n",
    "try:\n",
    "    app = w.apps.create(\n",
    "        name=\"caspers-digital-twin\",\n",
    "        description=\"Digital twin frontend for ghost kitchen visualization\"\n",
    "    )\n",
    "    \n",
    "    print(f\"✅ Digital twin app deployed: {app.name}\")\n",
    "    print(f\"📍 URL: {app.url}\")\n",
    "    \n",
    "except Exception as e:\n",
    "    print(f\"❌ Error deploying app: {e}\")\n",
    "    raise"
   ]
  },
  {
   "cell_type": "code",
   "execution_count": null,
   "metadata": {},
   "outputs": [],
   "source": [
    "# Track app in UC state for cleanup\n",
    "add(CATALOG, \"apps\", app)\n",
    "print(f\"✅ App tracked in UC state: {CATALOG}._internal_state.resources\")"
   ]
  }
 ],
 "metadata": {
  "kernelspec": {
   "display_name": "Python 3",
   "language": "python",
   "name": "python3"
  },
  "language_info": {
   "name": "python",
   "version": "3.10.0"
  }
 },
 "nbformat": 4,
 "nbformat_minor": 4
}
