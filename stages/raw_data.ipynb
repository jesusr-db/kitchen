{
 "cells": [
  {
   "cell_type": "markdown",
   "metadata": {
    "application/vnd.databricks.v1+cell": {
     "cellMetadata": {},
     "inputWidgets": {},
     "nuid": "b4b235ce-c6b8-4573-bca3-2719632d4efc",
     "showTitle": false,
     "tableResultSettingsMap": {},
     "title": ""
    }
   },
   "source": [
    "\n",
    "### Raw Data\n",
    "\n",
    "This notebook will bootstrap Caspers raw data into the provided catalog and schema"
   ]
  },
  {
   "cell_type": "code",
   "execution_count": 0,
   "metadata": {
    "application/vnd.databricks.v1+cell": {
     "cellMetadata": {},
     "inputWidgets": {},
     "nuid": "e7ea4bbf-d953-4c42-8c04-046392612a75",
     "showTitle": false,
     "tableResultSettingsMap": {},
     "title": ""
    }
   },
   "outputs": [],
   "source": [
    "%pip install --upgrade databricks-sdk"
   ]
  },
  {
   "cell_type": "code",
   "execution_count": 0,
   "metadata": {
    "application/vnd.databricks.v1+cell": {
     "cellMetadata": {},
     "inputWidgets": {},
     "nuid": "f9100bbc-b3e0-4fff-8aac-af90d83f426e",
     "showTitle": false,
     "tableResultSettingsMap": {},
     "title": ""
    }
   },
   "outputs": [],
   "source": [
    "dbutils.library.restartPython()"
   ]
  },
  {
   "cell_type": "code",
   "execution_count": 0,
   "metadata": {
    "application/vnd.databricks.v1+cell": {
     "cellMetadata": {},
     "inputWidgets": {},
     "nuid": "8ed7fe02-e440-448a-a4e7-a3bb957e70b0",
     "showTitle": false,
     "tableResultSettingsMap": {},
     "title": ""
    }
   },
   "outputs": [],
   "source": [
    "CATALOG = dbutils.widgets.get(\"CATALOG\")\n",
    "EVENTS_VOLUME = dbutils.widgets.get(\"EVENTS_VOLUME\")\n",
    "SIMULATOR_SCHEMA = dbutils.widgets.get(\"SIMULATOR_SCHEMA\")"
   ]
  },
  {
   "cell_type": "markdown",
   "metadata": {
    "application/vnd.databricks.v1+cell": {
     "cellMetadata": {},
     "inputWidgets": {},
     "nuid": "82e95cb7-3475-45f3-ba9f-1c508cda06eb",
     "showTitle": false,
     "tableResultSettingsMap": {},
     "title": ""
    }
   },
   "source": [
    "\n",
    "##### Create main catalog, simulator related schemas and volumes"
   ]
  },
  {
   "cell_type": "code",
   "execution_count": null,
   "metadata": {
    "application/vnd.databricks.v1+cell": {
     "cellMetadata": {},
     "inputWidgets": {},
     "nuid": "326b836a-0c13-4239-b013-18cc6f7c889e",
     "showTitle": false,
     "tableResultSettingsMap": {},
     "title": ""
    }
   },
   "outputs": [],
   "source": [
    "%sql\n",
    "CREATE CATALOG IF NOT EXISTS ${CATALOG};\n",
    "CREATE SCHEMA IF NOT EXISTS ${CATALOG}.${SIMULATOR_SCHEMA};\n",
    "CREATE VOLUME IF NOT EXISTS ${CATALOG}.${SIMULATOR_SCHEMA}.${EVENTS_VOLUME};"
   ]
  },
  {
   "cell_type": "markdown",
   "metadata": {
    "application/vnd.databricks.v1+cell": {
     "cellMetadata": {},
     "inputWidgets": {},
     "nuid": "3c2c4b0e-8a4c-459c-bb7b-67b19e5e6b1d",
     "showTitle": false,
     "tableResultSettingsMap": {},
     "title": ""
    }
   },
   "source": [
    "\n",
    "##### Create tables from parquet data"
   ]
  },
  {
   "cell_type": "code",
   "execution_count": null,
   "metadata": {
    "application/vnd.databricks.v1+cell": {
     "cellMetadata": {},
     "inputWidgets": {},
     "nuid": "21a83f2b-d1d3-4e33-bd43-ef7c5fd5baf1",
     "showTitle": false,
     "tableResultSettingsMap": {},
     "title": ""
    }
   },
   "outputs": [],
   "source": "import pandas as pd\n\nspark.createDataFrame(pd.read_csv(\"JMR_Scratch/brands.csv\")) \\\n    .write.mode(\"overwrite\").saveAsTable(f\"{CATALOG}.{SIMULATOR_SCHEMA}.brands\")\nspark.createDataFrame(pd.read_csv(\"JMR_Scratch/menus.csv\")) \\\n    .write.mode(\"overwrite\").saveAsTable(f\"{CATALOG}.{SIMULATOR_SCHEMA}.menus\")\nspark.createDataFrame(pd.read_csv(\"JMR_Scratch/categories.csv\")) \\\n    .write.mode(\"overwrite\").saveAsTable(f\"{CATALOG}.{SIMULATOR_SCHEMA}.categories\")\nspark.createDataFrame(pd.read_csv(\"JMR_Scratch/items.csv\")) \\\n    .write.mode(\"overwrite\").saveAsTable(f\"{CATALOG}.{SIMULATOR_SCHEMA}.items\")"
  },
  {
   "cell_type": "markdown",
   "metadata": {
    "application/vnd.databricks.v1+cell": {
     "cellMetadata": {},
     "inputWidgets": {},
     "nuid": "859d56d9-d728-44b2-be13-39b1a67e59e0",
     "showTitle": false,
     "tableResultSettingsMap": {},
     "title": ""
    }
   },
   "source": [
    "\n",
    "##### Start data generation"
   ]
  },
  {
   "cell_type": "markdown",
   "metadata": {
    "application/vnd.databricks.v1+cell": {
     "cellMetadata": {},
     "inputWidgets": {},
     "nuid": "2d57d601-108d-4ea2-a47d-8c52b0a8adba",
     "showTitle": false,
     "tableResultSettingsMap": {},
     "title": ""
    }
   },
   "source": [
    "\n",
    "##### Read all .jsons in ./data/generator/configs. Each json file represents a location."
   ]
  },
  {
   "cell_type": "code",
   "execution_count": 0,
   "metadata": {
    "application/vnd.databricks.v1+cell": {
     "cellMetadata": {},
     "inputWidgets": {},
     "nuid": "ded63223-6426-43ec-aa6f-953e16879833",
     "showTitle": false,
     "tableResultSettingsMap": {},
     "title": ""
    }
   },
   "outputs": [],
   "source": [
    "import glob\n",
    "import os\n",
    "\n",
    "# Get all JSON file paths under the directory\n",
    "json_paths = glob.glob(\"../data/generator/configs/*.json\")\n",
    "\n",
    "# Read each file's content as a string and collect into a dict mapping filename to content\n",
    "config_json_map = {}\n",
    "for path in json_paths:\n",
    "    filename = os.path.basename(path)\n",
    "    with open(path, \"r\", encoding=\"utf-8\") as f:\n",
    "        config_json_map[filename] = f.read()"
   ]
  },
  {
   "cell_type": "markdown",
   "metadata": {
    "application/vnd.databricks.v1+cell": {
     "cellMetadata": {},
     "inputWidgets": {},
     "nuid": "2f9074aa-5853-492d-a54b-c31a3470dc25",
     "showTitle": false,
     "tableResultSettingsMap": {},
     "title": ""
    }
   },
   "source": [
    "\n",
    "##### Start a job for each of the config jsons found in ./data/generator/configs"
   ]
  },
  {
   "cell_type": "code",
   "source": "# Filter locations based on LOCATIONS parameter\nlocations_param = dbutils.widgets.get(\"LOCATIONS\")\nif locations_param.lower() != \"all\":\n    selected = [loc.strip() for loc in locations_param.split(\",\")]\n    config_json_map = {k: v for k, v in config_json_map.items() if k in selected}\n    print(f\"Running selected locations: {list(config_json_map.keys())}\")\nelse:\n    print(f\"Running all locations: {list(config_json_map.keys())}\")",
   "metadata": {},
   "execution_count": null,
   "outputs": []
  },
  {
   "cell_type": "code",
   "execution_count": null,
   "metadata": {
    "application/vnd.databricks.v1+cell": {
     "cellMetadata": {},
     "inputWidgets": {},
     "nuid": "fb5b2f59-c6a9-4158-bbdf-9397fe473e18",
     "showTitle": false,
     "tableResultSettingsMap": {},
     "title": ""
    }
   },
   "outputs": [],
   "source": [
    "from databricks.sdk import WorkspaceClient\n",
    "import databricks.sdk.service.jobs as j\n",
    "import os, json\n",
    "\n",
    "w = WorkspaceClient()\n",
    "\n",
    "# Resolve the workspace notebook path (keeps your approach)\n",
    "notebook_abs_path = os.path.abspath(\"../data/generator/generator\")\n",
    "notebook_dbx_path = notebook_abs_path.replace(\n",
    "    os.environ.get(\"DATABRICKS_WORKSPACE_ROOT\", \"/Workspace\"),\n",
    "    \"/Workspace\"\n",
    ")\n",
    "\n",
    "import sys\n",
    "sys.path.append('../utils')\n",
    "from uc_state import add\n",
    "\n",
    "for filename, json_content in config_json_map.items():\n",
    "    job_name = f\"Order Flow Generator: {filename}\"\n",
    "\n",
    "    # Ensure SIM_CFG_JSON is a JSON string (Jobs widget params are strings)\n",
    "    sim_cfg_str = json_content if isinstance(json_content, str) else json.dumps(json_content)\n",
    "\n",
    "    job = w.jobs.create(\n",
    "        name=job_name,\n",
    "        tasks=[\n",
    "            j.Task(\n",
    "                task_key=\"order_flow_generator\",\n",
    "                notebook_task=j.NotebookTask(\n",
    "                    notebook_path=notebook_dbx_path,\n",
    "                    base_parameters={\n",
    "                        \"CATALOG\": CATALOG,\n",
    "                        \"VOLUME\": EVENTS_VOLUME,\n",
    "                        \"SCHEMA\": SIMULATOR_SCHEMA,\n",
    "                        \"SIM_CFG_JSON\": sim_cfg_str,\n",
    "                    },\n",
    "                )\n",
    "            )\n",
    "        ],\n",
    "    )\n",
    "    print(f\"Created job_id={job.job_id} for {filename}\")\n",
    "    add(CATALOG, \"jobs\", job)\n",
    "    w.jobs.run_now(job_id=job.job_id)"
   ]
  },
  {
   "cell_type": "markdown",
   "metadata": {
    "application/vnd.databricks.v1+cell": {
     "cellMetadata": {},
     "inputWidgets": {},
     "nuid": "8f0b77b8-650e-4ad9-a538-fbf39163af37",
     "showTitle": false,
     "tableResultSettingsMap": {},
     "title": ""
    }
   },
   "source": [
    "\n",
    "##### Blocking cell to wait for some data to arrive at the volume.\n",
    "\n",
    "The lakeflow declarative pipeline that comes next infers the schema from existing data.\n",
    "\n",
    "Lakeflow Jobs doesn't have a file arrival trigger at the task level (yet?)"
   ]
  },
  {
   "cell_type": "code",
   "execution_count": 0,
   "metadata": {
    "application/vnd.databricks.v1+cell": {
     "cellMetadata": {},
     "inputWidgets": {},
     "nuid": "f5b6e3df-ece6-477f-a057-ff2c97c6f888",
     "showTitle": false,
     "tableResultSettingsMap": {},
     "title": ""
    }
   },
   "outputs": [],
   "source": [
    "import time\n",
    "\n",
    "# Construct the path to the volume where JSONs will arrive\n",
    "volume_path = f\"/Volumes/{CATALOG}/{SIMULATOR_SCHEMA}/{EVENTS_VOLUME}\"\n",
    "\n",
    "def wait_for_data(path, timeout=300, poll_interval=5):\n",
    "    \"\"\"\n",
    "    Wait until at least one file appears in the given path.\n",
    "    Args:\n",
    "        path (str): The directory to watch.\n",
    "        timeout (int): Maximum seconds to wait.\n",
    "        poll_interval (int): Seconds between checks.\n",
    "    Raises:\n",
    "        TimeoutError: If no file appears within the timeout.\n",
    "    \"\"\"\n",
    "    start = time.time()\n",
    "    while time.time() - start < timeout:\n",
    "        files = dbutils.fs.ls(path)\n",
    "        if any(f.size > 0 for f in files if not f.path.endswith('/')):\n",
    "            print(\"Data arrived. Safe to proceed.\")\n",
    "            return\n",
    "        time.sleep(poll_interval)\n",
    "    raise TimeoutError(f\"No data found in {path} after {timeout} seconds.\")\n",
    "\n",
    "wait_for_data(volume_path)"
   ]
  }
 ],
 "metadata": {
  "application/vnd.databricks.v1+notebook": {
   "computePreferences": null,
   "dashboards": [],
   "environmentMetadata": {
    "base_environment": "",
    "environment_version": "3"
   },
   "inputWidgetPreferences": null,
   "language": "python",
   "notebookMetadata": {
    "pythonIndentUnit": 4
   },
   "notebookName": "raw_data",
   "widgets": {
    "CATALOG": {
     "currentValue": "",
     "nuid": "39bc9f65-25ff-4696-83c3-89b3d5ecc686",
     "typedWidgetInfo": {
      "autoCreated": false,
      "defaultValue": "",
      "label": "",
      "name": "CATALOG",
      "options": {
       "validationRegex": null,
       "widgetDisplayType": "Text"
      },
      "parameterDataType": "String"
     },
     "widgetInfo": {
      "defaultValue": "",
      "label": "",
      "name": "CATALOG",
      "options": {
       "autoCreated": false,
       "validationRegex": null,
       "widgetType": "text"
      },
      "widgetType": "text"
     }
    },
    "EVENTS_VOLUME": {
     "currentValue": "",
     "nuid": "06d6cc56-f73c-4948-b84f-f0f12cd47a94",
     "typedWidgetInfo": {
      "autoCreated": false,
      "defaultValue": "",
      "label": "",
      "name": "EVENTS_VOLUME",
      "options": {
       "validationRegex": null,
       "widgetDisplayType": "Text"
      },
      "parameterDataType": "String"
     },
     "widgetInfo": {
      "defaultValue": "",
      "label": "",
      "name": "EVENTS_VOLUME",
      "options": {
       "autoCreated": false,
       "validationRegex": null,
       "widgetType": "text"
      },
      "widgetType": "text"
     }
    },
    "SIMULATOR_SCHEMA": {
     "currentValue": "",
     "nuid": "70241427-8b78-43ec-8435-9688f17f69d9",
     "typedWidgetInfo": {
      "autoCreated": false,
      "defaultValue": "",
      "label": "",
      "name": "SIMULATOR_SCHEMA",
      "options": {
       "validationRegex": null,
       "widgetDisplayType": "Text"
      },
      "parameterDataType": "String"
     },
     "widgetInfo": {
      "defaultValue": "",
      "label": "",
      "name": "SIMULATOR_SCHEMA",
      "options": {
       "autoCreated": false,
       "validationRegex": null,
       "widgetType": "text"
      },
      "widgetType": "text"
     }
    }
   }
  },
  "language_info": {
   "name": "python"
  }
 },
 "nbformat": 4,
 "nbformat_minor": 0
}